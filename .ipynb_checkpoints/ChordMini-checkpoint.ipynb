{
 "cells": [
  {
   "cell_type": "code",
   "execution_count": 27,
   "metadata": {},
   "outputs": [],
   "source": [
    "import random\n",
    "import socket\n",
    "import struct\n",
    "import numpy as np\n",
    "import copy\n",
    "import hashlib\n",
    "import intervals\n",
    "from pprint import pprint"
   ]
  },
  {
   "cell_type": "code",
   "execution_count": 28,
   "metadata": {},
   "outputs": [],
   "source": [
    "#Notes :\n",
    "#fingertable[i].s -> a+pow(2,k-1) -> ith finger node of n\n",
    "#fingertable[i].interval \n",
    "#fingertable[i].node -> successor(fingertable[i].s)"
   ]
  },
  {
   "cell_type": "code",
   "execution_count": 49,
   "metadata": {},
   "outputs": [],
   "source": [
    "class Node:\n",
    "    def __init__(self, nodeId,fingerTable,predecessor,successor):\n",
    "        self.nodeId = nodeId\n",
    "        self.fingerTable = fingerTable\n",
    "        self.predecessor=predecessor\n",
    "        self.successor=successor"
   ]
  },
  {
   "cell_type": "code",
   "execution_count": 30,
   "metadata": {},
   "outputs": [],
   "source": [
    "def findClosestPreceedingFinger(node,id,numberOfBits):\n",
    "    for i in range(numberOfBits-1,-1,-1):\n",
    "#         if(node.fingerTable[i].node>=node.nodeId and node.fingerTable[i].node<=id):\n",
    "        if(contains(node.fingerTable[i].node,node.nodeId,id,numberOfBits)):\n",
    "            return nodeListDictionary[node.fingerTable[i].node]\n",
    "    return node   "
   ]
  },
  {
   "cell_type": "code",
   "execution_count": 31,
   "metadata": {},
   "outputs": [],
   "source": [
    "def findPredecessor(node, id,numberOfBits):\n",
    "    idCopy=node\n",
    "    while (not contains(id,idCopy.nodeId,idCopy.successor,numberOfBits)):\n",
    "        idCopy=findClosestPreceedingFinger(idCopy,id,numberOfBits)\n",
    "        print(vars(idCopy))\n",
    "    return idCopy"
   ]
  },
  {
   "cell_type": "code",
   "execution_count": 32,
   "metadata": {},
   "outputs": [],
   "source": [
    "def findSuccessor(node,id,numberOfBits):\n",
    "    if id in nodeListDictionary.keys():\n",
    "        return nodeListDictionary[id].successor;\n",
    "    predecessor = findPredecessor(node,id,numberOfBits)\n",
    "    return predecessor.successor"
   ]
  },
  {
   "cell_type": "code",
   "execution_count": null,
   "metadata": {},
   "outputs": [],
   "source": []
  },
  {
   "cell_type": "code",
   "execution_count": 33,
   "metadata": {},
   "outputs": [],
   "source": [
    "def contains(key,lowerBound,upperBound,numberOfBits):\n",
    "    if lowerBound<upperBound:\n",
    "        diff = upperBound - lowerBound\n",
    "        temp1 = key - lowerBound\n",
    "        temp2 = upperBound-key\n",
    "        if temp1<diff and temp2<diff:\n",
    "            return 1\n",
    "        else:\n",
    "            return 0\n",
    "    elif lowerBound>upperBound:\n",
    "        diff = pow(2,numberOfBits) - abs(lowerBound-upperBound)\n",
    "        temp1 = key - lowerBound\n",
    "        temp2 = pow(2,numberOfBits) - abs(key - upperBound)\n",
    "        if temp1<diff and temp2<diff:\n",
    "            return 1\n",
    "        else:\n",
    "            return 0\n",
    "    else:\n",
    "        return 1"
   ]
  },
  {
   "cell_type": "code",
   "execution_count": 34,
   "metadata": {},
   "outputs": [],
   "source": [
    "def calculateFingerTable(node,a,m):\n",
    "    finger=[]\n",
    "    for k in range(1,4):\n",
    "        start=(a+pow(2,k-1))%(pow(2,m))\n",
    "        end=(a+pow(2,k)-1)%(pow(2,m))\n",
    "        interval=intervals.closedopen(start,end)\n",
    "        node=findSuccessor(node,start)"
   ]
  },
  {
   "cell_type": "code",
   "execution_count": 35,
   "metadata": {},
   "outputs": [],
   "source": [
    "node_ids=[0,1,3]\n",
    "ranges = range(0,8)\n",
    "numberOfBits=3"
   ]
  },
  {
   "cell_type": "code",
   "execution_count": 36,
   "metadata": {},
   "outputs": [],
   "source": [
    "#Adding the first node to the overlay\n",
    "nodeListDictionary={}\n",
    "a=node_ids[0]\n",
    "fingerTable=np.empty([numberOfBits,3])\n",
    "initialSuccessor=node_ids[0]\n",
    "start_list=[]\n",
    "interval_list=[]\n",
    "successorList=[]\n",
    "for k in range(1,4):\n",
    "    start=(a+pow(2,k-1))%(pow(2,numberOfBits))\n",
    "    end=(a+pow(2,k)-1)%(pow(2,numberOfBits))\n",
    "    interval={\"start\":start,\"end\":(end)%(pow(2,numberOfBits))}\n",
    "    start_list.append(start)\n",
    "    interval_list.append(interval)\n",
    "    successorList.append(initialSuccessor)\n",
    "\n",
    "fingerTableInit = np.rec.fromarrays((start_list,interval_list,successorList ), names=('start', 'interval','node'))\n",
    "predecessor = 3\n",
    "successor=1\n",
    "firstNode = Node(a,fingerTableInit,predecessor,successor)\n",
    "nodeListDictionary[node_ids[0]]=firstNode"
   ]
  },
  {
   "cell_type": "code",
   "execution_count": 40,
   "metadata": {},
   "outputs": [],
   "source": [
    "#First Node\n",
    "start_list1 = [1,2,4]\n",
    "# fingerTable1 = [{'start': 1, 'end': 1},{'start': 2, 'end': 3},{'start': 4, 'end': 7}]\n",
    "successorList=[1,3,0]\n",
    "initTable = np.rec.fromarrays((start_list1,fingerTable1,successorList ), names=('start', 'node'))\n",
    "firstNode = Node(0, initTable,3,1)\n",
    "\n",
    "#Second Node\n",
    "start_list1 = [2,3,5]\n",
    "# fingerTable1 = [{'start': 2, 'end': 2},{'start': 3, 'end': 4},{'start': 5, 'end': 0}]\n",
    "successorList=[3,3,0]\n",
    "initTable = np.rec.fromarrays((start_list1,successorList ), names=('start','node'))\n",
    "secondNode = Node(1,initTable,0,3)\n",
    "\n",
    "#Third Node\n",
    "start_list1 = [4,5,7]\n",
    "# fingerTable1 = [{'start': 4, 'end': 4},{'start': 5, 'end': 6},{'start': 7, 'end': 2}]\n",
    "successorList=[0,0,0]\n",
    "initTable = np.rec.fromarrays((start_list1,successorList ), names=('start', 'node'))\n",
    "thirdNode = Node(3,initTable,1,0)\n",
    "\n",
    "nodeListDictionary={}\n",
    "nodeListDictionary[0]=firstNode\n",
    "nodeListDictionary[1]=secondNode\n",
    "nodeListDictionary[3]=thirdNode"
   ]
  },
  {
   "cell_type": "code",
   "execution_count": 41,
   "metadata": {},
   "outputs": [
    {
     "name": "stdout",
     "output_type": "stream",
     "text": [
      "0 {'nodeId': 0, 'fingerTable': rec.array([(1, {'start': 2, 'end': 2}, 1), (2, {'start': 3, 'end': 4}, 3),\n",
      "           (4, {'start': 5, 'end': 0}, 0)],\n",
      "          dtype=[('start', '<i8'), ('node', 'O'), ('f2', '<i8')]), 'predecessor': 3, 'successor': 1}\n",
      "------------------\n",
      "1 {'nodeId': 1, 'fingerTable': rec.array([(2, 3), (3, 3), (5, 0)],\n",
      "          dtype=[('start', '<i8'), ('node', '<i8')]), 'predecessor': 0, 'successor': 3}\n",
      "------------------\n",
      "3 {'nodeId': 3, 'fingerTable': rec.array([(4, 0), (5, 0), (7, 0)],\n",
      "          dtype=[('start', '<i8'), ('node', '<i8')]), 'predecessor': 1, 'successor': 0}\n",
      "------------------\n"
     ]
    }
   ],
   "source": [
    "for key,value in nodeListDictionary.items():\n",
    "    print(key,vars(value))\n",
    "    print(\"------------------\")"
   ]
  },
  {
   "cell_type": "code",
   "execution_count": 42,
   "metadata": {},
   "outputs": [
    {
     "data": {
      "text/plain": [
       "1"
      ]
     },
     "execution_count": 42,
     "metadata": {},
     "output_type": "execute_result"
    }
   ],
   "source": [
    "findSuccessor(firstNode,0,3)\n"
   ]
  },
  {
   "cell_type": "code",
   "execution_count": 43,
   "metadata": {},
   "outputs": [],
   "source": []
  },
  {
   "cell_type": "code",
   "execution_count": 45,
   "metadata": {},
   "outputs": [],
   "source": [
    "def init_finger_table(existingNode, newNode):\n",
    "    existingNode.fingerTable[0].node = "
   ]
  },
  {
   "cell_type": "code",
   "execution_count": 44,
   "metadata": {},
   "outputs": [],
   "source": [
    "#When a new node joins\n",
    "def join(existingNode, newNode):\n",
    "    if existingNode in nodeListDictionary.keys():\n",
    "        init_finger_table(existingNode,newNode)\n",
    "        update_others()\n",
    "    else:\n",
    "        fingerInit = []\n",
    "        start=[]\n",
    "        for i in range(1,m):\n",
    "            start.append(pow(2,i-1))\n",
    "            fingerInit.append(n)\n",
    "        predecessor=newNode\n",
    "        nodeId=newNode\n",
    "        successor=newNode\n",
    "        nodeListDictionary[newNode]= Node(nodeId,np.rec.fromarrays((start,fingerInit ), names=('start', 'node')),predecessor,successor)"
   ]
  },
  {
   "cell_type": "code",
   "execution_count": 46,
   "metadata": {},
   "outputs": [],
   "source": [
    "class Node:\n",
    "    def __init__(self, ID, nxt = None, prev = None):\n",
    "        self.ID = ID\n",
    "        self.data = dict()\n",
    "        self.prev = prev\n",
    "        self.fingerTable = [nxt]"
   ]
  },
  {
   "cell_type": "code",
   "execution_count": 47,
   "metadata": {},
   "outputs": [],
   "source": [
    "i = Node(0,5)"
   ]
  },
  {
   "cell_type": "code",
   "execution_count": 48,
   "metadata": {},
   "outputs": [
    {
     "data": {
      "text/plain": [
       "{'ID': 0, 'data': {}, 'prev': None, 'fingerTable': [5]}"
      ]
     },
     "execution_count": 48,
     "metadata": {},
     "output_type": "execute_result"
    }
   ],
   "source": [
    "vars(i)"
   ]
  },
  {
   "cell_type": "code",
   "execution_count": null,
   "metadata": {},
   "outputs": [],
   "source": []
  }
 ],
 "metadata": {
  "kernelspec": {
   "display_name": "Python 3",
   "language": "python",
   "name": "python3"
  },
  "language_info": {
   "codemirror_mode": {
    "name": "ipython",
    "version": 3
   },
   "file_extension": ".py",
   "mimetype": "text/x-python",
   "name": "python",
   "nbconvert_exporter": "python",
   "pygments_lexer": "ipython3",
   "version": "3.7.4"
  }
 },
 "nbformat": 4,
 "nbformat_minor": 2
}
