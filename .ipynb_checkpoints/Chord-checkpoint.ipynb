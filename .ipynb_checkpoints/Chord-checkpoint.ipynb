{
 "cells": [
  {
   "cell_type": "code",
   "execution_count": 1,
   "metadata": {},
   "outputs": [],
   "source": [
    "import random\n",
    "import socket\n",
    "import struct\n",
    "import numpy as np\n",
    "import copy\n",
    "import hashlib"
   ]
  },
  {
   "cell_type": "code",
   "execution_count": 2,
   "metadata": {},
   "outputs": [],
   "source": [
    "class Node:\n",
    "    def __init__(self, nodeId, fingerTable, successor):\n",
    "        self.neighbours = []\n",
    "        self.nodeId = nodeId\n",
    "        self.fingerTable = fingerTable\n",
    "        self.successor=successor"
   ]
  },
  {
   "cell_type": "code",
   "execution_count": 3,
   "metadata": {},
   "outputs": [],
   "source": [
    "# socket.inet_ntoa(struct.pack('>I', random.randint(0x3cffffff, 0xffffffff)))\n",
    "number_of_nodes=1000"
   ]
  },
  {
   "cell_type": "code",
   "execution_count": 4,
   "metadata": {},
   "outputs": [],
   "source": [
    "#Generate IP Addresses\n",
    "all_ip_address=[]\n",
    "for i in range(0,number_of_nodes):\n",
    "    temp = socket.inet_ntoa(struct.pack('>I', random.randint(0x3cffffff, 0xffffffff)))\n",
    "    if(temp not in all_ip_address):\n",
    "        all_ip_address.append(temp)\n",
    "    else:\n",
    "        i-=1"
   ]
  },
  {
   "cell_type": "code",
   "execution_count": 5,
   "metadata": {},
   "outputs": [],
   "source": [
    "while(1):\n",
    "    #Create a random Adjacency Matrix\n",
    "    adjacency = np.random.randint(0,2,(number_of_nodes,number_of_nodes))\n",
    "    #Removing Self Loops\n",
    "    for index,i in enumerate(adjacency):\n",
    "        if adjacency[index][index]==1:\n",
    "            adjacency[index][index]=0\n",
    "            \n",
    "    #If a node has no neighbours (Generate a new graph)\n",
    "    not_connected=0\n",
    "    for i in adjacency:\n",
    "        if np.all(i==0):\n",
    "            not_connected=1\n",
    "            break\n",
    "    if not_connected==0:\n",
    "        break\n",
    "        "
   ]
  },
  {
   "cell_type": "code",
   "execution_count": 6,
   "metadata": {},
   "outputs": [],
   "source": [
    "while(1):\n",
    "    #Assigning IP Addresses To Nodes\n",
    "    ipAddressMap={}\n",
    "    ip_address_list=copy.deepcopy(all_ip_address)\n",
    "    assigned_ip=[]\n",
    "    for i in range(0,number_of_nodes):\n",
    "        temp = random.randint(0,len(ip_address_list)-1)\n",
    "        ipAddressMap[i]=ip_address_list[temp]\n",
    "        assigned_ip.append(ip_address_list[temp])\n",
    "        del ip_address_list[temp]\n",
    "        \n",
    "    #Checking if no 2 nodes have been provided with same ip address\n",
    "    if (len(set(assigned_ip))==len(assigned_ip)):\n",
    "        break"
   ]
  },
  {
   "cell_type": "code",
   "execution_count": 7,
   "metadata": {},
   "outputs": [],
   "source": [
    "#Calculating SHA-1 (160 bit) hash of IP Address of a node\n",
    "allNodeObjects = []\n",
    "for key,value in ipAddressMap.items():\n",
    "    temp = Node(hashlib.sha1(value.encode('utf-8')).hexdigest())\n",
    "    allNodeObjects.append(temp)"
   ]
  },
  {
   "cell_type": "code",
   "execution_count": 19,
   "metadata": {},
   "outputs": [
    {
     "data": {
      "text/plain": [
       "'0xad19a039868accfdfa3d7b1e9c943ff2815ac0f90x4'"
      ]
     },
     "execution_count": 19,
     "metadata": {},
     "output_type": "execute_result"
    }
   ],
   "source": [
    "hex(int(allNodeObjects[0].nodeId,16)) + hex(4)"
   ]
  },
  {
   "cell_type": "code",
   "execution_count": 20,
   "metadata": {},
   "outputs": [
    {
     "data": {
      "text/plain": [
       "('ad19a039868accfdfa3d7b1e9c943ff2815ac0f9', 16)"
      ]
     },
     "execution_count": 20,
     "metadata": {},
     "output_type": "execute_result"
    }
   ],
   "source": [
    "allNodeObjects[0].nodeId,16"
   ]
  },
  {
   "cell_type": "code",
   "execution_count": null,
   "metadata": {},
   "outputs": [],
   "source": []
  },
  {
   "cell_type": "code",
   "execution_count": null,
   "metadata": {},
   "outputs": [],
   "source": []
  },
  {
   "cell_type": "code",
   "execution_count": null,
   "metadata": {},
   "outputs": [],
   "source": []
  }
 ],
 "metadata": {
  "kernelspec": {
   "display_name": "Python 3",
   "language": "python",
   "name": "python3"
  },
  "language_info": {
   "codemirror_mode": {
    "name": "ipython",
    "version": 3
   },
   "file_extension": ".py",
   "mimetype": "text/x-python",
   "name": "python",
   "nbconvert_exporter": "python",
   "pygments_lexer": "ipython3",
   "version": "3.7.4"
  }
 },
 "nbformat": 4,
 "nbformat_minor": 2
}
