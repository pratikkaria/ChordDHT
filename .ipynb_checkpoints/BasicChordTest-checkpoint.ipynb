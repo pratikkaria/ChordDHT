{
 "cells": [
  {
   "cell_type": "code",
   "execution_count": 220,
   "metadata": {},
   "outputs": [],
   "source": [
    "import random\n",
    "import socket\n",
    "import struct\n",
    "import numpy as np\n",
    "import copy\n",
    "import hashlib\n",
    "import intervals\n",
    "from pprint import pprint"
   ]
  },
  {
   "cell_type": "code",
   "execution_count": 221,
   "metadata": {},
   "outputs": [],
   "source": [
    "numberOfBitsOfHash = 4"
   ]
  },
  {
   "cell_type": "code",
   "execution_count": 222,
   "metadata": {},
   "outputs": [],
   "source": [
    "class Node:\n",
    "    def __init__(self, nodeId):\n",
    "        self.nodeId = nodeId\n",
    "        self.fingerTable = None\n",
    "        self.predecessor=None\n",
    "        self.successor=None"
   ]
  },
  {
   "cell_type": "code",
   "execution_count": 223,
   "metadata": {},
   "outputs": [],
   "source": [
    "def initializeFingerTableOfFirstNode(firstNode):\n",
    "    start_list=[]\n",
    "    interval_list=[]\n",
    "    successorList=[]\n",
    "    for k in range(1,numberOfBitsOfHash+1):\n",
    "        start=(firstNode.nodeId+pow(2,k-1))%(pow(2,numberOfBitsOfHash))\n",
    "        end=(firstNode.nodeId+pow(2,k)-1)%(pow(2,numberOfBitsOfHash))\n",
    "        interval={\"start\":start%(pow(2,numberOfBitsOfHash)),\"end\":(end)%(pow(2,numberOfBitsOfHash))}\n",
    "        start_list.append(start)\n",
    "        interval_list.append(interval)\n",
    "        successorList.append(firstNode)\n",
    "    \n",
    "    fingerTable = np.rec.fromarrays((start_list,interval_list,successorList ), names=('start', 'interval','node'))  \n",
    "\n",
    "    return fingerTable\n",
    "\n",
    "def createChordRing(firstNode):\n",
    "    firstNode.successor=firstNode\n",
    "    firstNode.fingerTable=initializeFingerTable(firstNode)\n",
    "    firstNode.predecessor = firstNode\n",
    "    return firstNode"
   ]
  },
  {
   "cell_type": "code",
   "execution_count": 224,
   "metadata": {},
   "outputs": [],
   "source": [
    "def initializeNewNode(newNodeId):\n",
    "    newNode = Node(newNodeId)\n",
    "    newNode.successor = findSuccessor(firstNode,newNode)\n",
    "    newNode.fingerTable = initializeFingerTableOfFirstNode(newNode)\n",
    "    return newNode"
   ]
  },
  {
   "cell_type": "code",
   "execution_count": 225,
   "metadata": {},
   "outputs": [],
   "source": [
    "def contains(key,lowerBound,upperBound,numberOfBits):\n",
    "    if lowerBound<upperBound:\n",
    "        diff = upperBound - lowerBound\n",
    "        temp1 = key - lowerBound\n",
    "        temp2 = upperBound-key\n",
    "        if temp1<diff and temp2<diff:\n",
    "            return 1\n",
    "        else:\n",
    "            return 0\n",
    "    elif lowerBound>upperBound:\n",
    "        diff = pow(2,numberOfBits) - abs(lowerBound-upperBound)\n",
    "        temp1 = key - lowerBound\n",
    "        temp2 = pow(2,numberOfBits) - abs(key - upperBound)\n",
    "        if temp1<diff and temp2<diff:\n",
    "            return 1\n",
    "        else:\n",
    "            return 0\n",
    "    else:\n",
    "        return 1"
   ]
  },
  {
   "cell_type": "code",
   "execution_count": 208,
   "metadata": {},
   "outputs": [],
   "source": [
    "def findClosestPreceedingFinger(node,id):\n",
    "    for i in range(numberOfBitsOfHash-1,-1,-1):\n",
    "        if(contains(node.fingerTable[i].node.nodeId,node.nodeId,id,numberOfBitsOfHash)):\n",
    "            return nodeListDictionary[node.fingerTable[i].node.nodeId]\n",
    "    return node   "
   ]
  },
  {
   "cell_type": "code",
   "execution_count": 209,
   "metadata": {},
   "outputs": [],
   "source": [
    "def findPredecessor(node, id):\n",
    "    idCopy=node\n",
    "    while (not contains(id,idCopy.nodeId,idCopy.successor.nodeId,numberOfBitsOfHash)):\n",
    "        idCopy=findClosestPreceedingFinger(idCopy,id)\n",
    "    return idCopy"
   ]
  },
  {
   "cell_type": "code",
   "execution_count": 210,
   "metadata": {},
   "outputs": [],
   "source": [
    "def findSuccessor(node,id):\n",
    "    if id in nodeListDictionary.keys():\n",
    "        return nodeListDictionary[id].successor;\n",
    "    predecessor = findPredecessor(node,id)\n",
    "    return predecessor.successor"
   ]
  },
  {
   "cell_type": "code",
   "execution_count": 211,
   "metadata": {},
   "outputs": [],
   "source": [
    "firstNode = Node(1)\n",
    "firstNode = createChordRing(firstNode)\n",
    "nodeListDictionary={}\n",
    "nodeListDictionary[firstNode.nodeId]=firstNode"
   ]
  },
  {
   "cell_type": "code",
   "execution_count": 212,
   "metadata": {},
   "outputs": [],
   "source": [
    "addNode = 4\n",
    "newNode=initializeNewNode(addNode)\n",
    "nodeListDictionary[newNode.nodeId]=newNode"
   ]
  },
  {
   "cell_type": "code",
   "execution_count": 213,
   "metadata": {},
   "outputs": [
    {
     "data": {
      "text/plain": [
       "1"
      ]
     },
     "execution_count": 213,
     "metadata": {},
     "output_type": "execute_result"
    }
   ],
   "source": [
    "newNode.successor.nodeId"
   ]
  },
  {
   "cell_type": "code",
   "execution_count": 219,
   "metadata": {},
   "outputs": [],
   "source": [
    "#Joining a node\n",
    "def updateFingerTable(pred,newNode,i):\n",
    "    if contains(newNode.nodeId,pred.nodeId,pred.fingerTable[i].node.nodeId,numberOfBitsOfHash):\n",
    "        pred.fingerTable[i].node = newNode\n",
    "        p = pred.predecessor\n",
    "        updateFingerTable(p,newNode,i)\n",
    "        \n",
    "def updateOthers(newNode):\n",
    "    for i in range(1,numberOfBitsOfHash):\n",
    "        pred = findPredecessor(newNode,newNode.nodeId - pow(2,i-1))\n",
    "        updateFingerTable(pred,newNode,i)\n",
    "    \n",
    "def initFingerTable(newNode,existingNode):\n",
    "    newNode.fingerTable[0].node = findSuccessor(existingNode,newNode.fingerTable[0].start)\n",
    "    newNode.successor = newNode.fingerTable[0].node\n",
    "    newNode.predecessor = newNode.successor.predecessor\n",
    "    newNode.successor.predecessor = newNode\n",
    "    newNode.predecessor.successor = newNode\n",
    "    for i in range(0,numberOfBitsOfHash-1):\n",
    "        if contains(newNode.fingerTable[i].start,newNode.fingerTable[i].node.nodeId,existingNode.nodeId,numberOfBitsOfHash):\n",
    "            newNode.fingerTable[i+1].node = newNode.fingerTable[i].node\n",
    "        else:\n",
    "            newNode.fingerTable[i+1].node = findSuccessor(existingNode,newNode.fingerTable[i+1].start)\n",
    "    \n",
    "def join(newNode,existingNode):\n",
    "    \n",
    "    initFingerTable(newNode,existingNode)\n",
    "    print(vars(newNode.fingerTable[0].node))\n",
    "    print(vars(newNode))\n",
    "#     updateOthers(newNode)\n"
   ]
  },
  {
   "cell_type": "code",
   "execution_count": 218,
   "metadata": {},
   "outputs": [
    {
     "ename": "KeyboardInterrupt",
     "evalue": "",
     "output_type": "error",
     "traceback": [
      "\u001b[0;31m---------------------------------------------------------------------------\u001b[0m",
      "\u001b[0;31mKeyboardInterrupt\u001b[0m                         Traceback (most recent call last)",
      "\u001b[0;32m<ipython-input-218-78c95aa462e6>\u001b[0m in \u001b[0;36m<module>\u001b[0;34m\u001b[0m\n\u001b[0;32m----> 1\u001b[0;31m \u001b[0mjoin\u001b[0m\u001b[0;34m(\u001b[0m\u001b[0mnewNode\u001b[0m\u001b[0;34m,\u001b[0m\u001b[0mfirstNode\u001b[0m\u001b[0;34m)\u001b[0m\u001b[0;34m\u001b[0m\u001b[0;34m\u001b[0m\u001b[0m\n\u001b[0m",
      "\u001b[0;32m<ipython-input-217-86eb226a8a46>\u001b[0m in \u001b[0;36mjoin\u001b[0;34m(newNode, existingNode)\u001b[0m\n\u001b[1;32m     25\u001b[0m \u001b[0;32mdef\u001b[0m \u001b[0mjoin\u001b[0m\u001b[0;34m(\u001b[0m\u001b[0mnewNode\u001b[0m\u001b[0;34m,\u001b[0m\u001b[0mexistingNode\u001b[0m\u001b[0;34m)\u001b[0m\u001b[0;34m:\u001b[0m\u001b[0;34m\u001b[0m\u001b[0;34m\u001b[0m\u001b[0m\n\u001b[1;32m     26\u001b[0m \u001b[0;34m\u001b[0m\u001b[0m\n\u001b[0;32m---> 27\u001b[0;31m     \u001b[0minitFingerTable\u001b[0m\u001b[0;34m(\u001b[0m\u001b[0mnewNode\u001b[0m\u001b[0;34m,\u001b[0m\u001b[0mexistingNode\u001b[0m\u001b[0;34m)\u001b[0m\u001b[0;34m\u001b[0m\u001b[0;34m\u001b[0m\u001b[0m\n\u001b[0m\u001b[1;32m     28\u001b[0m     \u001b[0mprint\u001b[0m\u001b[0;34m(\u001b[0m\u001b[0mvars\u001b[0m\u001b[0;34m(\u001b[0m\u001b[0mnewNode\u001b[0m\u001b[0;34m.\u001b[0m\u001b[0mfingerTable\u001b[0m\u001b[0;34m[\u001b[0m\u001b[0;36m0\u001b[0m\u001b[0;34m]\u001b[0m\u001b[0;34m.\u001b[0m\u001b[0mnode\u001b[0m\u001b[0;34m)\u001b[0m\u001b[0;34m)\u001b[0m\u001b[0;34m\u001b[0m\u001b[0;34m\u001b[0m\u001b[0m\n\u001b[1;32m     29\u001b[0m     \u001b[0mprint\u001b[0m\u001b[0;34m(\u001b[0m\u001b[0mvars\u001b[0m\u001b[0;34m(\u001b[0m\u001b[0mnewNode\u001b[0m\u001b[0;34m)\u001b[0m\u001b[0;34m)\u001b[0m\u001b[0;34m\u001b[0m\u001b[0;34m\u001b[0m\u001b[0m\n",
      "\u001b[0;32m<ipython-input-217-86eb226a8a46>\u001b[0m in \u001b[0;36minitFingerTable\u001b[0;34m(newNode, existingNode)\u001b[0m\n\u001b[1;32m     12\u001b[0m \u001b[0;34m\u001b[0m\u001b[0m\n\u001b[1;32m     13\u001b[0m \u001b[0;32mdef\u001b[0m \u001b[0minitFingerTable\u001b[0m\u001b[0;34m(\u001b[0m\u001b[0mnewNode\u001b[0m\u001b[0;34m,\u001b[0m\u001b[0mexistingNode\u001b[0m\u001b[0;34m)\u001b[0m\u001b[0;34m:\u001b[0m\u001b[0;34m\u001b[0m\u001b[0;34m\u001b[0m\u001b[0m\n\u001b[0;32m---> 14\u001b[0;31m     \u001b[0mnewNode\u001b[0m\u001b[0;34m.\u001b[0m\u001b[0mfingerTable\u001b[0m\u001b[0;34m[\u001b[0m\u001b[0;36m0\u001b[0m\u001b[0;34m]\u001b[0m\u001b[0;34m.\u001b[0m\u001b[0mnode\u001b[0m \u001b[0;34m=\u001b[0m \u001b[0mfindSuccessor\u001b[0m\u001b[0;34m(\u001b[0m\u001b[0mexistingNode\u001b[0m\u001b[0;34m,\u001b[0m\u001b[0mnewNode\u001b[0m\u001b[0;34m.\u001b[0m\u001b[0mfingerTable\u001b[0m\u001b[0;34m[\u001b[0m\u001b[0;36m0\u001b[0m\u001b[0;34m]\u001b[0m\u001b[0;34m.\u001b[0m\u001b[0mstart\u001b[0m\u001b[0;34m)\u001b[0m\u001b[0;34m\u001b[0m\u001b[0;34m\u001b[0m\u001b[0m\n\u001b[0m\u001b[1;32m     15\u001b[0m     \u001b[0mnewNode\u001b[0m\u001b[0;34m.\u001b[0m\u001b[0msuccessor\u001b[0m \u001b[0;34m=\u001b[0m \u001b[0mnewNode\u001b[0m\u001b[0;34m.\u001b[0m\u001b[0mfingerTable\u001b[0m\u001b[0;34m[\u001b[0m\u001b[0;36m0\u001b[0m\u001b[0;34m]\u001b[0m\u001b[0;34m.\u001b[0m\u001b[0mnode\u001b[0m\u001b[0;34m\u001b[0m\u001b[0;34m\u001b[0m\u001b[0m\n\u001b[1;32m     16\u001b[0m     \u001b[0mnewNode\u001b[0m\u001b[0;34m.\u001b[0m\u001b[0mpredecessor\u001b[0m \u001b[0;34m=\u001b[0m \u001b[0mnewNode\u001b[0m\u001b[0;34m.\u001b[0m\u001b[0msuccessor\u001b[0m\u001b[0;34m.\u001b[0m\u001b[0mpredecessor\u001b[0m\u001b[0;34m\u001b[0m\u001b[0;34m\u001b[0m\u001b[0m\n",
      "\u001b[0;32m<ipython-input-210-ee8bb7f1d196>\u001b[0m in \u001b[0;36mfindSuccessor\u001b[0;34m(node, id)\u001b[0m\n\u001b[1;32m      2\u001b[0m     \u001b[0;32mif\u001b[0m \u001b[0mid\u001b[0m \u001b[0;32min\u001b[0m \u001b[0mnodeListDictionary\u001b[0m\u001b[0;34m.\u001b[0m\u001b[0mkeys\u001b[0m\u001b[0;34m(\u001b[0m\u001b[0;34m)\u001b[0m\u001b[0;34m:\u001b[0m\u001b[0;34m\u001b[0m\u001b[0;34m\u001b[0m\u001b[0m\n\u001b[1;32m      3\u001b[0m         \u001b[0;32mreturn\u001b[0m \u001b[0mnodeListDictionary\u001b[0m\u001b[0;34m[\u001b[0m\u001b[0mid\u001b[0m\u001b[0;34m]\u001b[0m\u001b[0;34m.\u001b[0m\u001b[0msuccessor\u001b[0m\u001b[0;34m;\u001b[0m\u001b[0;34m\u001b[0m\u001b[0;34m\u001b[0m\u001b[0m\n\u001b[0;32m----> 4\u001b[0;31m     \u001b[0mpredecessor\u001b[0m \u001b[0;34m=\u001b[0m \u001b[0mfindPredecessor\u001b[0m\u001b[0;34m(\u001b[0m\u001b[0mnode\u001b[0m\u001b[0;34m,\u001b[0m\u001b[0mid\u001b[0m\u001b[0;34m)\u001b[0m\u001b[0;34m\u001b[0m\u001b[0;34m\u001b[0m\u001b[0m\n\u001b[0m\u001b[1;32m      5\u001b[0m     \u001b[0;32mreturn\u001b[0m \u001b[0mpredecessor\u001b[0m\u001b[0;34m.\u001b[0m\u001b[0msuccessor\u001b[0m\u001b[0;34m\u001b[0m\u001b[0;34m\u001b[0m\u001b[0m\n",
      "\u001b[0;32m<ipython-input-209-ac9c78bdeb2f>\u001b[0m in \u001b[0;36mfindPredecessor\u001b[0;34m(node, id)\u001b[0m\n\u001b[1;32m      2\u001b[0m     \u001b[0midCopy\u001b[0m\u001b[0;34m=\u001b[0m\u001b[0mnode\u001b[0m\u001b[0;34m\u001b[0m\u001b[0;34m\u001b[0m\u001b[0m\n\u001b[1;32m      3\u001b[0m     \u001b[0;32mwhile\u001b[0m \u001b[0;34m(\u001b[0m\u001b[0;32mnot\u001b[0m \u001b[0mcontains\u001b[0m\u001b[0;34m(\u001b[0m\u001b[0mid\u001b[0m\u001b[0;34m,\u001b[0m\u001b[0midCopy\u001b[0m\u001b[0;34m.\u001b[0m\u001b[0mnodeId\u001b[0m\u001b[0;34m,\u001b[0m\u001b[0midCopy\u001b[0m\u001b[0;34m.\u001b[0m\u001b[0msuccessor\u001b[0m\u001b[0;34m.\u001b[0m\u001b[0mnodeId\u001b[0m\u001b[0;34m,\u001b[0m\u001b[0mnumberOfBitsOfHash\u001b[0m\u001b[0;34m)\u001b[0m\u001b[0;34m)\u001b[0m\u001b[0;34m:\u001b[0m\u001b[0;34m\u001b[0m\u001b[0;34m\u001b[0m\u001b[0m\n\u001b[0;32m----> 4\u001b[0;31m         \u001b[0midCopy\u001b[0m\u001b[0;34m=\u001b[0m\u001b[0mfindClosestPreceedingFinger\u001b[0m\u001b[0;34m(\u001b[0m\u001b[0midCopy\u001b[0m\u001b[0;34m,\u001b[0m\u001b[0mid\u001b[0m\u001b[0;34m)\u001b[0m\u001b[0;34m\u001b[0m\u001b[0;34m\u001b[0m\u001b[0m\n\u001b[0m\u001b[1;32m      5\u001b[0m     \u001b[0;32mreturn\u001b[0m \u001b[0midCopy\u001b[0m\u001b[0;34m\u001b[0m\u001b[0;34m\u001b[0m\u001b[0m\n",
      "\u001b[0;32m<ipython-input-208-ce4e6f7b6c6f>\u001b[0m in \u001b[0;36mfindClosestPreceedingFinger\u001b[0;34m(node, id)\u001b[0m\n\u001b[1;32m      1\u001b[0m \u001b[0;32mdef\u001b[0m \u001b[0mfindClosestPreceedingFinger\u001b[0m\u001b[0;34m(\u001b[0m\u001b[0mnode\u001b[0m\u001b[0;34m,\u001b[0m\u001b[0mid\u001b[0m\u001b[0;34m)\u001b[0m\u001b[0;34m:\u001b[0m\u001b[0;34m\u001b[0m\u001b[0;34m\u001b[0m\u001b[0m\n\u001b[1;32m      2\u001b[0m     \u001b[0;32mfor\u001b[0m \u001b[0mi\u001b[0m \u001b[0;32min\u001b[0m \u001b[0mrange\u001b[0m\u001b[0;34m(\u001b[0m\u001b[0mnumberOfBitsOfHash\u001b[0m\u001b[0;34m-\u001b[0m\u001b[0;36m1\u001b[0m\u001b[0;34m,\u001b[0m\u001b[0;34m-\u001b[0m\u001b[0;36m1\u001b[0m\u001b[0;34m,\u001b[0m\u001b[0;34m-\u001b[0m\u001b[0;36m1\u001b[0m\u001b[0;34m)\u001b[0m\u001b[0;34m:\u001b[0m\u001b[0;34m\u001b[0m\u001b[0;34m\u001b[0m\u001b[0m\n\u001b[0;32m----> 3\u001b[0;31m         \u001b[0;32mif\u001b[0m\u001b[0;34m(\u001b[0m\u001b[0mcontains\u001b[0m\u001b[0;34m(\u001b[0m\u001b[0mnode\u001b[0m\u001b[0;34m.\u001b[0m\u001b[0mfingerTable\u001b[0m\u001b[0;34m[\u001b[0m\u001b[0mi\u001b[0m\u001b[0;34m]\u001b[0m\u001b[0;34m.\u001b[0m\u001b[0mnode\u001b[0m\u001b[0;34m.\u001b[0m\u001b[0mnodeId\u001b[0m\u001b[0;34m,\u001b[0m\u001b[0mnode\u001b[0m\u001b[0;34m.\u001b[0m\u001b[0mnodeId\u001b[0m\u001b[0;34m,\u001b[0m\u001b[0mid\u001b[0m\u001b[0;34m,\u001b[0m\u001b[0mnumberOfBitsOfHash\u001b[0m\u001b[0;34m)\u001b[0m\u001b[0;34m)\u001b[0m\u001b[0;34m:\u001b[0m\u001b[0;34m\u001b[0m\u001b[0;34m\u001b[0m\u001b[0m\n\u001b[0m\u001b[1;32m      4\u001b[0m             \u001b[0;32mreturn\u001b[0m \u001b[0mnodeListDictionary\u001b[0m\u001b[0;34m[\u001b[0m\u001b[0mnode\u001b[0m\u001b[0;34m.\u001b[0m\u001b[0mfingerTable\u001b[0m\u001b[0;34m[\u001b[0m\u001b[0mi\u001b[0m\u001b[0;34m]\u001b[0m\u001b[0;34m.\u001b[0m\u001b[0mnode\u001b[0m\u001b[0;34m.\u001b[0m\u001b[0mnodeId\u001b[0m\u001b[0;34m]\u001b[0m\u001b[0;34m\u001b[0m\u001b[0;34m\u001b[0m\u001b[0m\n\u001b[1;32m      5\u001b[0m     \u001b[0;32mreturn\u001b[0m \u001b[0mnode\u001b[0m\u001b[0;34m\u001b[0m\u001b[0;34m\u001b[0m\u001b[0m\n",
      "\u001b[0;32m<ipython-input-207-8e6f36d8e9e0>\u001b[0m in \u001b[0;36mcontains\u001b[0;34m(key, lowerBound, upperBound, numberOfBits)\u001b[0m\n\u001b[1;32m      1\u001b[0m \u001b[0;32mdef\u001b[0m \u001b[0mcontains\u001b[0m\u001b[0;34m(\u001b[0m\u001b[0mkey\u001b[0m\u001b[0;34m,\u001b[0m\u001b[0mlowerBound\u001b[0m\u001b[0;34m,\u001b[0m\u001b[0mupperBound\u001b[0m\u001b[0;34m,\u001b[0m\u001b[0mnumberOfBits\u001b[0m\u001b[0;34m)\u001b[0m\u001b[0;34m:\u001b[0m\u001b[0;34m\u001b[0m\u001b[0;34m\u001b[0m\u001b[0m\n\u001b[0;32m----> 2\u001b[0;31m     \u001b[0;32mif\u001b[0m \u001b[0mlowerBound\u001b[0m\u001b[0;34m<\u001b[0m\u001b[0mupperBound\u001b[0m\u001b[0;34m:\u001b[0m\u001b[0;34m\u001b[0m\u001b[0;34m\u001b[0m\u001b[0m\n\u001b[0m\u001b[1;32m      3\u001b[0m         \u001b[0mdiff\u001b[0m \u001b[0;34m=\u001b[0m \u001b[0mupperBound\u001b[0m \u001b[0;34m-\u001b[0m \u001b[0mlowerBound\u001b[0m\u001b[0;34m\u001b[0m\u001b[0;34m\u001b[0m\u001b[0m\n\u001b[1;32m      4\u001b[0m         \u001b[0mtemp1\u001b[0m \u001b[0;34m=\u001b[0m \u001b[0mkey\u001b[0m \u001b[0;34m-\u001b[0m \u001b[0mlowerBound\u001b[0m\u001b[0;34m\u001b[0m\u001b[0;34m\u001b[0m\u001b[0m\n\u001b[1;32m      5\u001b[0m         \u001b[0mtemp2\u001b[0m \u001b[0;34m=\u001b[0m \u001b[0mupperBound\u001b[0m\u001b[0;34m-\u001b[0m\u001b[0mkey\u001b[0m\u001b[0;34m\u001b[0m\u001b[0;34m\u001b[0m\u001b[0m\n",
      "\u001b[0;31mKeyboardInterrupt\u001b[0m: "
     ]
    }
   ],
   "source": [
    "join(newNode,firstNode)"
   ]
  },
  {
   "cell_type": "code",
   "execution_count": 216,
   "metadata": {},
   "outputs": [
    {
     "name": "stdout",
     "output_type": "stream",
     "text": [
      "--\n",
      "5\n",
      "1\n",
      "--\n",
      "6\n",
      "1\n",
      "--\n",
      "8\n",
      "1\n",
      "--\n",
      "12\n",
      "1\n"
     ]
    }
   ],
   "source": [
    "for i in newNode.fingerTable:\n",
    "    print(\"--\")\n",
    "    print(i.start)\n",
    "    print(i.node.nodeId)"
   ]
  },
  {
   "cell_type": "code",
   "execution_count": 203,
   "metadata": {},
   "outputs": [
    {
     "data": {
      "text/plain": [
       "1"
      ]
     },
     "execution_count": 203,
     "metadata": {},
     "output_type": "execute_result"
    }
   ],
   "source": [
    "i=0\n",
    "contains(newNode.fingerTable[i].start,newNode.fingerTable[i].node.nodeId,firstNode.nodeId,numberOfBitsOfHash)"
   ]
  },
  {
   "cell_type": "code",
   "execution_count": 196,
   "metadata": {},
   "outputs": [
    {
     "data": {
      "text/plain": [
       "4"
      ]
     },
     "execution_count": 196,
     "metadata": {},
     "output_type": "execute_result"
    }
   ],
   "source": [
    "newNode.fingerTable[i].node.nodeId"
   ]
  },
  {
   "cell_type": "code",
   "execution_count": 197,
   "metadata": {},
   "outputs": [
    {
     "data": {
      "text/plain": [
       "1"
      ]
     },
     "execution_count": 197,
     "metadata": {},
     "output_type": "execute_result"
    }
   ],
   "source": [
    "contains(5,4,1,numberOfBitsOfHash)"
   ]
  },
  {
   "cell_type": "code",
   "execution_count": null,
   "metadata": {},
   "outputs": [],
   "source": []
  }
 ],
 "metadata": {
  "kernelspec": {
   "display_name": "Python 3",
   "language": "python",
   "name": "python3"
  },
  "language_info": {
   "codemirror_mode": {
    "name": "ipython",
    "version": 3
   },
   "file_extension": ".py",
   "mimetype": "text/x-python",
   "name": "python",
   "nbconvert_exporter": "python",
   "pygments_lexer": "ipython3",
   "version": "3.7.4"
  }
 },
 "nbformat": 4,
 "nbformat_minor": 2
}
